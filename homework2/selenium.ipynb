{
 "cells": [
  {
   "cell_type": "code",
   "execution_count": 1,
   "metadata": {},
   "outputs": [
    {
     "name": "stderr",
     "output_type": "stream",
     "text": [
      "C:\\Users\\USER\\AppData\\Local\\Temp\\ipykernel_6908\\823508744.py:16: DeprecationWarning: The 'text' argument to find()-type methods is deprecated. Use 'string' instead.\n",
      "  target_element = soup.find(text='國立臺灣大學')\n"
     ]
    },
    {
     "name": "stdout",
     "output_type": "stream",
     "text": [
      "No data found\n"
     ]
    }
   ],
   "source": [
    "from selenium import webdriver\n",
    "from selenium.webdriver.common.by import By\n",
    "from bs4 import BeautifulSoup\n",
    "\n",
    "# 使用 Chrome 驅動程式\n",
    "driver = webdriver.Chrome()\n",
    "\n",
    "# 發送 HTTP 請求並獲取 HTML 頁面\n",
    "url = 'https://www.ptt.cc/bbs/Gossiping/M.1687917953.A.8BE.html'\n",
    "driver.get(url)\n",
    "\n",
    "# 使用 BeautifulSoup 解析 HTML\n",
    "soup = BeautifulSoup(driver.page_source, 'html.parser')\n",
    "\n",
    "# 找到包含指定文字的元素\n",
    "target_element = soup.find(text='國立臺灣大學')\n",
    "\n",
    "# 如果找到元素，則獲取文字內容\n",
    "data_to_extract = target_element.strip() if target_element else 'No data found'\n",
    "\n",
    "# 印出或進行其他操作\n",
    "print(data_to_extract)\n",
    "\n",
    "# 關閉瀏覽器\n",
    "driver.quit()\n"
   ]
  }
 ],
 "metadata": {
  "kernelspec": {
   "display_name": "Python 3",
   "language": "python",
   "name": "python3"
  },
  "language_info": {
   "codemirror_mode": {
    "name": "ipython",
    "version": 3
   },
   "file_extension": ".py",
   "mimetype": "text/x-python",
   "name": "python",
   "nbconvert_exporter": "python",
   "pygments_lexer": "ipython3",
   "version": "3.12.0"
  }
 },
 "nbformat": 4,
 "nbformat_minor": 2
}
