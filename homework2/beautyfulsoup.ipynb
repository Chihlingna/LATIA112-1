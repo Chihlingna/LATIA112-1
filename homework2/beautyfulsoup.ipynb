{
 "cells": [
  {
   "cell_type": "code",
   "execution_count": 19,
   "metadata": {},
   "outputs": [
    {
     "name": "stdout",
     "output_type": "stream",
     "text": [
      "No data found\n"
     ]
    },
    {
     "name": "stderr",
     "output_type": "stream",
     "text": [
      "C:\\Users\\USER\\AppData\\Local\\Temp\\ipykernel_16832\\3626938889.py:14: DeprecationWarning: The 'text' argument to find()-type methods is deprecated. Use 'string' instead.\n",
      "  target_element = soup.find(text='國立臺灣大學')\n"
     ]
    }
   ],
   "source": [
    "import requests\n",
    "from bs4 import BeautifulSoup\n",
    "import csv\n",
    "\n",
    "# 發送 HTTP 請求並獲取 HTML 頁面\n",
    "url = 'https://www.ptt.cc/bbs/Gossiping/M.1687917953.A.8BE.html'\n",
    "response = requests.get(url)\n",
    "html = response.text\n",
    "\n",
    "# 使用 BeautifulSoup 解析 HTML\n",
    "soup = BeautifulSoup(html, 'html.parser')\n",
    "\n",
    "# 找到包含指定文字的元素\n",
    "target_element = soup.find(text='國立臺灣大學')\n",
    "\n",
    "# 如果找到元素，則獲取文字內容\n",
    "data_to_extract = target_element.strip() if target_element else 'No data found'\n",
    "\n",
    "# 印出或進行其他操作\n",
    "print(data_to_extract)\n",
    "\n",
    "\n"
   ]
  },
  {
   "cell_type": "code",
   "execution_count": null,
   "metadata": {},
   "outputs": [],
   "source": []
  }
 ],
 "metadata": {
  "kernelspec": {
   "display_name": "Python 3",
   "language": "python",
   "name": "python3"
  },
  "language_info": {
   "codemirror_mode": {
    "name": "ipython",
    "version": 3
   },
   "file_extension": ".py",
   "mimetype": "text/x-python",
   "name": "python",
   "nbconvert_exporter": "python",
   "pygments_lexer": "ipython3",
   "version": "3.12.0"
  }
 },
 "nbformat": 4,
 "nbformat_minor": 2
}
